{
 "cells": [
  {
   "cell_type": "markdown",
   "metadata": {},
   "source": [
    "# Hackathon #1\n",
    "\n",
    "Written by Eleanor Quint\n",
    "\n",
    "Topics:\n",
    "- The basic unit of computation, the Tensor and operations\n",
    "- How to create and optimize trainable Variables\n",
    "- Gradient descent optimization\n",
    "\n",
    "This is all setup in a IPython notebook so you can run any code you want to experiment with. Feel free to edit any cell, or add some to run your own code."
   ]
  },
  {
   "cell_type": "code",
   "execution_count": null,
   "metadata": {},
   "outputs": [],
   "source": [
    "# We'll start with our library imports...\n",
    "from __future__ import print_function\n",
    "\n",
    "import numpy as np  # to use numpy arrays\n",
    "import tensorflow as tf  # to specify and run computation graphs"
   ]
  },
  {
   "cell_type": "code",
   "execution_count": null,
   "metadata": {},
   "outputs": [],
   "source": [
    "tf.config.list_physical_devices('GPU') "
   ]
  },
  {
   "cell_type": "markdown",
   "metadata": {},
   "source": [
    "### Tensor\n",
    "\n",
    "The basic unit of data in TensorFlow is the [`tf.Tensor`](https://www.tensorflow.org/api_docs/python/tf/Tensor). A tensor is a multi-dimensional array of numerical variable specialized for numerical computation with an underlying data type (think `float` or `int`). Here are some examples of tensors we'll create with [`tf.convert_to_tensor`](https://www.tensorflow.org/api_docs/python/tf/convert_to_tensor), or [`tf.ones`](https://www.tensorflow.org/api_docs/python/tf/ones) or `tf.zeros` (which have the same interface)."
   ]
  },
  {
   "cell_type": "code",
   "execution_count": null,
   "metadata": {},
   "outputs": [],
   "source": [
    "# a 0-dim tensor; a scalar with shape ()\n",
    "its_complicated = tf.convert_to_tensor(12.3 - 4.85j, tf.complex64)\n",
    "print(its_complicated)\n",
    "print()\n",
    "\n",
    "# a 1-dim tensor; a vector with shape (5,), meaning it's just a plain 'ol array\n",
    "# notice that we've given a name to this variable\n",
    "first_primes = tf.convert_to_tensor(np.array([2, 3, 5, 7, 11], np.int32), name=\"primes\")\n",
    "print(first_primes)\n",
    "print()\n",
    "\n",
    "# a 2-dim tensor; a matrix with shape [2, 3]\n",
    "# notice that the dtype is inferred when we don't specify it\n",
    "my_identity = tf.ones([2, 3])\n",
    "print(my_identity)\n",
    "print(\n",
    "    \"We can retrieve a numpy array from TensorFlow:\",\n",
    "    my_identity.numpy(),\n",
    "    \"is a\",\n",
    "    type(my_identity.numpy()),\n",
    ")\n",
    "print()\n",
    "\n",
    "# a 4-dim tensor with shape [10, 299, 299, 3]\n",
    "blank_image = tf.zeros([10, 299, 299, 3])\n",
    "print(\"tf.shape returns a Tensor:\", tf.shape(blank_image))\n",
    "print(\"while .shape returns a tuple:\", blank_image.shape)"
   ]
  },
  {
   "cell_type": "markdown",
   "metadata": {},
   "source": [
    "#### Tensor Shape and Broadcasting\n",
    "\n",
    "The shape of a tensor can be checked by calling the [tf.shape](https://www.tensorflow.org/api_docs/python/tf/shape) operation. (Note too that the dimension can be checked with `len(x.shape)`). Tensors can be reshaped with [tf.reshape](https://www.tensorflow.org/api_docs/python/tf/reshape). For example:"
   ]
  },
  {
   "cell_type": "code",
   "execution_count": null,
   "metadata": {},
   "outputs": [],
   "source": [
    "print(tf.range(10))\n",
    "print()\n",
    "print(tf.reshape(tf.range(10), (2, 5)))  # re-arrange into two rows\n",
    "print()\n",
    "print(tf.reshape(tf.range(10), (1, 10)))  # add a dimension"
   ]
  },
  {
   "cell_type": "markdown",
   "metadata": {},
   "source": [
    "The shape of a tensor is important to determine what operations are valid on it. TensorFlow uses the same operational semantics and broadcasting rules as numpy. Operations are generally pointwise, as illustrated by the following multiplication which calculates squares."
   ]
  },
  {
   "cell_type": "code",
   "execution_count": null,
   "metadata": {},
   "outputs": [],
   "source": [
    "print(\n",
    "    \"Shapes\",\n",
    "    tf.range(10).shape,\n",
    "    \"and\",\n",
    "    tf.range(10).shape,\n",
    "    \"gives\",\n",
    "    (tf.range(10) * tf.range(10)),\n",
    ")"
   ]
  },
  {
   "cell_type": "markdown",
   "metadata": {},
   "source": [
    "Scalars with shape `()` can always be broadcast to operate with anything"
   ]
  },
  {
   "cell_type": "code",
   "execution_count": null,
   "metadata": {},
   "outputs": [],
   "source": [
    "print(\n",
    "    \"Shapes\",\n",
    "    tf.range(10).shape,\n",
    "    \"and\",\n",
    "    tf.convert_to_tensor(2).shape,\n",
    "    \"gives\",\n",
    "    (tf.range(10) - tf.convert_to_tensor(2)),\n",
    ")"
   ]
  },
  {
   "cell_type": "markdown",
   "metadata": {},
   "source": [
    "And similarly, if one of the tensors has a 1 in a dimension and the other doesn't, broadcasting occurs in that dimension. You can assume all tensors' shape begin with an implicit 1, which allows the last example below to work."
   ]
  },
  {
   "cell_type": "code",
   "execution_count": null,
   "metadata": {},
   "outputs": [],
   "source": [
    "# these operation will fail if uncommented\n",
    "# tf.range(10) * tf.range(20)\n",
    "# tf.ones([2,10]) * tf.ones([3,10])\n",
    "\n",
    "# note that tf.ones([a,b]) == tf.reshape(tf.ones(a*b), [a,b])\n",
    "print(\n",
    "    \"This example broadcasts in the first two dimensions to get shape:\",\n",
    "    (tf.ones([3, 1, 10]) * tf.ones([1, 3, 10])).shape,\n",
    ")\n",
    "print(\n",
    "    \"This one works because the first has implicit shape [1,10], giving shape:\",\n",
    "    (tf.range(10) * tf.ones([2, 10], dtype=tf.int32)).shape,\n",
    ")"
   ]
  },
  {
   "cell_type": "markdown",
   "metadata": {},
   "source": [
    "#### Tensor data type\n",
    "\n",
    "Broadcasting gives a good amount of flexibility to working with shapes, but TensorFlow will never implicitly change data types, leading to hidden errors like the one below. Changing the data type is easy with `tf.cast`."
   ]
  },
  {
   "cell_type": "code",
   "execution_count": null,
   "metadata": {},
   "outputs": [],
   "source": [
    "# This won't work, even though the shapes line up: tf.range(10) * tf.ones([2,10])\n",
    "# Why?\n",
    "print(\"First type is\", tf.range(10).dtype, \"and second is\", tf.ones([2, 10]).dtype)\n",
    "print(\"This works though!\", tf.range(10) * tf.cast(tf.ones([2, 10]), tf.int32))"
   ]
  },
  {
   "cell_type": "markdown",
   "metadata": {},
   "source": [
    "### Trainable variables\n",
    "\n",
    "In machine learning, we're interested in using models which are parameterized with trainable variables. We can create variables with `tf.Variable` and by providing the initial value."
   ]
  },
  {
   "cell_type": "code",
   "execution_count": null,
   "metadata": {},
   "outputs": [],
   "source": [
    "print(tf.Variable(tf.random.normal([10])))"
   ]
  },
  {
   "cell_type": "markdown",
   "metadata": {},
   "source": [
    "We can use TensorFlow's autodifferentiation, which tracks operations for you and automatically backpropagates gradients when requested. This tracking happens in the context of a [`tf.GradientTape`](https://www.tensorflow.org/api_docs/python/tf/GradientTape) and gradients are calculated by a call to `tf.GradientTape.gradient`."
   ]
  },
  {
   "cell_type": "code",
   "execution_count": null,
   "metadata": {},
   "outputs": [],
   "source": [
    "x = tf.Variable(3.0)\n",
    "with tf.GradientTape() as tape:\n",
    "    y = x ** 2  # calculate x^2\n",
    "\n",
    "# Call gradient with output value(s) and variable(s)\n",
    "grad = tape.gradient(y, x)\n",
    "\n",
    "print(grad)  # we expect this to be 2*x"
   ]
  },
  {
   "cell_type": "markdown",
   "metadata": {},
   "source": [
    "#### Gradient descent optimization\n",
    "\n",
    "Next, we're going to take a big step to using gradient descent to solve a system of linear equations, `Ax=b`, like you might see in a linear algebra class. We'll generate fixed values for A and b, and make `x` a variable we can learn. Then, we'll calculate an error function (the `difference_sq` line below), and use the gradients of the error with respect to `x` to update it to make the error smaller on the next run. We can do this for all the indices of the `x` vector simultaneously."
   ]
  },
  {
   "cell_type": "code",
   "execution_count": null,
   "metadata": {},
   "outputs": [],
   "source": [
    "from matplotlib import pyplot as plt\n",
    "import seaborn as sns\n",
    "import numpy as np  # to use numpy arrays\n",
    "import tensorflow as tf  # to specify and run computation graphs\n",
    "plt.style.use(\"seaborn-darkgrid\")\n",
    "plt.rc(\n",
    "    \"figure\",\n",
    "    autolayout=True,\n",
    "    figsize=(11, 4),\n",
    "    titlesize=18,\n",
    "    titleweight='bold',\n",
    ")\n",
    "plt.rc(\n",
    "    \"axes\",\n",
    "    labelweight=\"bold\",\n",
    "    labelsize=\"large\",\n",
    "    titleweight=\"bold\",\n",
    "    titlesize=16,\n",
    "    titlepad=10,\n",
    ")\n",
    "sns.set(rc={'axes.facecolor':'darkgrey', 'figure.facecolor':'darkgrey'})\n",
    "# plt.style.use('dark_background')"
   ]
  },
  {
   "cell_type": "code",
   "execution_count": null,
   "metadata": {},
   "outputs": [],
   "source": [
    "\n",
    "\n",
    "learning_rate = 0.5\n",
    "num_iterations = 50\n",
    "\n",
    "# the optimizer allows us to apply gradients to update variables\n",
    "optimizer = tf.keras.optimizers.Adam(learning_rate)\n",
    "\n",
    "# Create a fixed matrix, A\n",
    "# A = tf.random.normal([4, 4])\n",
    "A = tf.convert_to_tensor(tf.constant([\n",
    "\t[1,4,1,2],\n",
    "\t[3,2,5,6],\n",
    "\t[5,1,1,2],\n",
    "\t[2,5,3,4]\n",
    "], tf.float32), name=\"primes\")\n",
    "# Create x using an arbitrary initial value\n",
    "x = tf.Variable(tf.ones([4, 1]))\n",
    "# Create a fixed vector b\n",
    "# b = tf.random.normal([4, 1])\n",
    "b = tf.convert_to_tensor(tf.constant([2,3,2,4], tf.float32), name=\"banana\")\n",
    "\n",
    "# Check the initial values\n",
    "print(\"A:\", A.numpy())\n",
    "print(\"b:\", b.numpy())\n",
    "\n",
    "print(\"Initial x:\", x.numpy())\n",
    "print(\"Ax:\", (A @ x).numpy())\n",
    "print()\n",
    "\n",
    "error = []\n",
    "\n",
    "# We want Ax - b = 0, so we'll try to minimize its value\n",
    "for step in range(num_iterations):\n",
    "    print(\"Iteration\", step)\n",
    "    with tf.GradientTape() as tape:\n",
    "        # Calculate A*x\n",
    "        product = tf.matmul(A, x)\n",
    "        # calculat the loss value we want to minimize\n",
    "        # what happens if we don't use the square here?\n",
    "        difference_sq = tf.math.square(product - b)\n",
    "        error.append(tf.norm(tf.math.sqrt(difference_sq)).numpy())\n",
    "        print(\"Squared error:\", error[-1])\n",
    "        # calculate the gradient\n",
    "        grad = tape.gradient(difference_sq, [x])\n",
    "        # print(\"Gradients:\")\n",
    "        # print(grad)\n",
    "        # update x\n",
    "        optimizer.apply_gradients(zip(grad, [x]))\n",
    "        # print()\n",
    "\n",
    "# Check the final values\n",
    "print(\"Optimized x\", x.numpy())\n",
    "print(\"Ax\", (A @ x).numpy())  # Should be close to the value of b"
   ]
  },
  {
   "cell_type": "code",
   "execution_count": null,
   "metadata": {},
   "outputs": [],
   "source": [
    "# [2,3,2,4]\n",
    "\n",
    "# 0.01 500\n",
    "# 3.673455\n",
    "\n",
    "# 0.01 5000\n",
    "# 3.4764342\n",
    "\n",
    "# 0.1 500\n",
    "# 3.5617592\n",
    "\n",
    "# 0.1 5000\n",
    "# 3.3166246\n",
    "\n",
    "# 0.25 500\n",
    "# 3.4844558\n",
    "\n",
    "# 0.25 5000\n",
    "# 3.3166246\n",
    "\n",
    "# 0.5 500\n",
    "# 3.4103253\n",
    "\n",
    "# 0.5 5000\n",
    "# 3.3166246\n",
    "\n",
    "print(error[-1])\n",
    "sns.lineplot(error)"
   ]
  },
  {
   "cell_type": "markdown",
   "metadata": {},
   "source": [
    "We use `.numpy()` to get the value of the tensor for a cleaner output message. If the number of iterations is large enough, we will eventually learn a vector for `x` which approximately satisfies the system of equations.\n",
    "\n",
    "### Homework\n",
    "\n",
    "Your homework is to specify a simple optimization problem that you will solve with gradient descent (as above). Then, play around with the learning rate and number of update iterations to get an intuitive understanding of how they affect your solver. Write up a paragraph describing your equation, how learning rate and number of iterations gave a better or worse solution, and with your intuition for why. Submit this writeup in a `.pdf` with a `.py` of your code.\n",
    "\n",
    "I'm expecting this to take about an hour (or less if you're experienced). Feel free to use any code from this or previous hackathons. If you don't understand how to do any part of this or if it's taking you longer than that, please let me know in office hours or by email (both can be found on the syllabus). I'm also happy to discuss if you just want to ask more questions about anything in this notebook!"
   ]
  },
  {
   "cell_type": "code",
   "execution_count": 2,
   "metadata": {},
   "outputs": [
    {
     "data": {
      "text/plain": [
       "[PhysicalDevice(name='/physical_device:GPU:0', device_type='GPU')]"
      ]
     },
     "execution_count": 2,
     "metadata": {},
     "output_type": "execute_result"
    }
   ],
   "source": [
    "from __future__ import print_function\n",
    "\n",
    "import numpy as np  # to use numpy arrays\n",
    "import tensorflow as tf  # to specify and run computation graphs\n",
    "from matplotlib import pyplot as plt\n",
    "import seaborn as sns\n",
    "from math import sqrt\n",
    "import random\n",
    "from itertools import product\n",
    "\n",
    "plt.style.use(\"seaborn-darkgrid\")\n",
    "plt.rc(\n",
    "    \"figure\",\n",
    "    autolayout=True,\n",
    "    figsize=(11, 4),\n",
    "    titlesize=18,\n",
    "    titleweight='bold',\n",
    ")\n",
    "plt.rc(\n",
    "    \"axes\",\n",
    "    labelweight=\"bold\",\n",
    "    labelsize=\"large\",\n",
    "    titleweight=\"bold\",\n",
    "    titlesize=16,\n",
    "    titlepad=10,\n",
    ")\n",
    "sns.set(rc={'axes.facecolor':'darkgrey', 'figure.facecolor':'darkgrey'})\n",
    "\n",
    "tf.config.list_physical_devices('GPU') "
   ]
  },
  {
   "cell_type": "code",
   "execution_count": 3,
   "metadata": {},
   "outputs": [],
   "source": [
    "\n",
    "\n",
    "\n",
    "\n",
    "def larn(params):\n",
    "\trandom.seed(42)\n",
    "\n",
    "\tlearning_rate, num_iterations = params\n",
    "\t# the optimizer allows us to apply gradients to update variables\n",
    "\toptimizer = tf.keras.optimizers.Adam(learning_rate)\n",
    "\n",
    "\t# Create a fixed matrix, A\n",
    "\t# A = tf.random.normal([4,4])\n",
    "\tA = tf.convert_to_tensor(tf.constant([\n",
    "\t\t[3,4,7,3],\n",
    "\t\t[3,6,8,9],\n",
    "\t\t[7,5,8,2],\n",
    "\t\t[6,3,8,5]\n",
    "\t], tf.float32), name=\"a num\")\n",
    "\n",
    "\t# B = tf.random.normal([4,4])\n",
    "\n",
    "\tB = tf.convert_to_tensor(tf.constant([\n",
    "\t\t[1,4,1,2],\n",
    "\t\t[3,2,5,6],\n",
    "\t\t[5,1,1,2],\n",
    "\t\t[2,5,3,4]\n",
    "\t], tf.float32), name=\"b num\")\n",
    "\n",
    "\t# Create x using an arbitrary initial value\n",
    "\t# x = tf.convert_to_tensor(tf.constant([[2],[3],[2],[4]], tf.float32), name=\"aa\")\n",
    "\tx = tf.Variable(tf.ones([4,1]))\n",
    "\ty = tf.Variable(tf.ones([4,1]))\n",
    "\t# Create a fixed vector b\n",
    "\t# b = tf.random.normal([4,1])\n",
    "\t# c = tf.random.normal([4,1])\n",
    "\n",
    "\tc = tf.convert_to_tensor(tf.constant([2,3,2,4], tf.float32), name=\"banana\")\n",
    "\n",
    "\t# Check the initial values\n",
    "\t# print(\"A:\", A.numpy())\n",
    "\t# print(\"B:\", B.numpy())\n",
    "\t# print(\"c:\", c.numpy())\n",
    "\n",
    "\t# print(\"Initial x:\", x.numpy())\n",
    "\t# print(\"Ax:\", (A @ x).numpy())\n",
    "\t# print(\"Bx:\", (B @ y).numpy())\n",
    "\t# print()\n",
    "\t# print(\"Ax^2\", ((A @ x)**2).numpy())\n",
    "\t# print(\"Bx^2\", ((B @ y)**2).numpy())\n",
    "\t# print()\n",
    "\t# print(\"sqrt( (xA)^2 + (xB)^2 )\", tf.sqrt( (A @ x)**2 + (B @ y)**2 ).numpy())\n",
    "\n",
    "\terror = []\n",
    "\n",
    "\t# We want sqrt( (xA)^2 + (yB)^2 ) - C = 0, so we'll try to minimize its value\n",
    "\tfor step in range(num_iterations):\n",
    "\t\t# print(\"Iteration\", step)\n",
    "\t\twith tf.GradientTape() as tape:\n",
    "\t\t\t# Calculate A*x\n",
    "\t\t\tproduct = tf.sqrt( (A @ x)**2 + (B @ y)**2 )\n",
    "\t\t\t# calculat the loss value we want to minimize\n",
    "\t\t\t# what happens if we don't use the square here?\n",
    "\t\t\tdifference_sq = tf.math.square(product - c)\n",
    "\t\t\terror.append(tf.norm(tf.math.sqrt(difference_sq)).numpy())\n",
    "\t\t\t# print(\"Squared error:\", error[-1])\n",
    "\t\t\t# calculate the gradient\n",
    "\t\t\tgrad = tape.gradient(difference_sq, [x,y])\n",
    "\t\t\t# print(\"Gradients:\")\n",
    "\t\t\t# print(grad)\n",
    "\t\t\t# update x\n",
    "\t\t\toptimizer.apply_gradients(zip(grad, [x,y]))\n",
    "\t\t\t# print()\n",
    "\treturn error\n",
    "\n",
    "# Check the final values\n",
    "# print(\"Optimized x\", x.numpy())\n",
    "# print(\"Optimized y\", y.numpy())\n",
    "# print(\"c\", c.numpy())\n",
    "# print(\"sqrt( (xA)^2 + (xB)^2 )\", tf.sqrt( (A @ x)**2 + (B @ y)**2 ).numpy())  # Should be close to the value of b"
   ]
  },
  {
   "cell_type": "code",
   "execution_count": 4,
   "metadata": {},
   "outputs": [
    {
     "data": {
      "text/plain": [
       "<Figure size 3000x4000 with 0 Axes>"
      ]
     },
     "metadata": {},
     "output_type": "display_data"
    }
   ],
   "source": [
    "\n",
    "l_rate = [0.01, 0.05, 0.1, 0.25, 0.5, 0.75]\n",
    "num_i = [10, 50, 100, 500, 1000]\n",
    "form = list(product(l_rate, num_i))\n",
    "\n",
    "plt.figure(figsize=(30,40), dpi=100)\n",
    "e = [[],[],[],[],[]]\n",
    "sns.set(rc={\"figure.figsize\":(8, 4)})\n",
    "for index, item in enumerate(form):\n",
    "    e[index%5].append(larn(item))\n",
    "# sns.lineplot(e)\n",
    "\n",
    "# sns.lineplot(error)"
   ]
  },
  {
   "cell_type": "code",
   "execution_count": 5,
   "metadata": {},
   "outputs": [
    {
     "data": {
      "image/png": "[encoded data removed]",
      "text/plain": [
       "<Figure size 800x400 with 6 Axes>"
      ]
     },
     "metadata": {},
     "output_type": "display_data"
    }
   ],
   "source": [
    "# plt.legend([],[], frameon=False)\n",
    "fig, axs = plt.subplots(3,2)\n",
    "# for ax in axs:\n",
    "# axs.get_legend().remove()\n",
    "for i, a in enumerate(e):\n",
    "\tsns.lineplot(a, ax=axs[i//2,i%2], legend=None)\n"
   ]
  },
  {
   "cell_type": "code",
   "execution_count": null,
   "metadata": {},
   "outputs": [],
   "source": []
  }
 ],
 "metadata": {
  "kernelspec": {
   "display_name": "tf",
   "language": "python",
   "name": "python3"
  },
  "language_info": {
   "codemirror_mode": {
    "name": "ipython",
    "version": 3
   },
   "file_extension": ".py",
   "mimetype": "text/x-python",
   "name": "python",
   "nbconvert_exporter": "python",
   "pygments_lexer": "ipython3",
   "version": "3.9.13"
  },
  "vscode": {
   "interpreter": {
    "hash": "96dd73e6a6a86f33027cc1cbe08d9d03c4fec49f67b7dbcff3e37de26cd5bfc0"
   }
  }
 },
 "nbformat": 4,
 "nbformat_minor": 4
}
